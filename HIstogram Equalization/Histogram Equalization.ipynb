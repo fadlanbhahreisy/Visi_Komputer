{
 "cells": [
  {
   "cell_type": "markdown",
   "metadata": {},
   "source": [
    "# Nama : Achmad Fadlan Bhahreisy\n",
    "# Npm : 06.2018.1.06992"
   ]
  },
  {
   "attachments": {
    "image.png": {
     "image/png": "[encoded data removed]"
    }
   },
   "cell_type": "markdown",
   "metadata": {},
   "source": [
    "![image.png](attachment:image.png)"
   ]
  },
  {
   "cell_type": "code",
   "execution_count": 1,
   "metadata": {},
   "outputs": [
    {
     "name": "stdout",
     "output_type": "stream",
     "text": [
      "[[45 32  8 61 32]\n",
      " [24 45 67 67  7]\n",
      " [32  3  3 45  2]\n",
      " [65 12 24  4  9]\n",
      " [12 13  8 32 45]]\n"
     ]
    }
   ],
   "source": [
    "import numpy as np\n",
    "from prettytable import PrettyTable \n",
    "gambar = np.array([\n",
    "        [45,32,8,61,32],\n",
    "        [24,45,67,67,7],\n",
    "        [32,3,3,45,2],\n",
    "        [65,12,24,4,9],\n",
    "        [12,13,8,32,45]])\n",
    "print(gambar)"
   ]
  },
  {
   "cell_type": "markdown",
   "metadata": {},
   "source": [
    "## 1. Frekuensi"
   ]
  },
  {
   "cell_type": "code",
   "execution_count": 2,
   "metadata": {},
   "outputs": [
    {
     "name": "stdout",
     "output_type": "stream",
     "text": [
      "+---------------+-----------+\n",
      "| Skala Keabuan | Frekuensi |\n",
      "+---------------+-----------+\n",
      "|       2       |     1     |\n",
      "|       3       |     2     |\n",
      "|       4       |     1     |\n",
      "|       7       |     1     |\n",
      "|       8       |     2     |\n",
      "|       9       |     1     |\n",
      "|       12      |     2     |\n",
      "|       13      |     1     |\n",
      "|       24      |     2     |\n",
      "|       32      |     4     |\n",
      "|       45      |     4     |\n",
      "|       61      |     1     |\n",
      "|       65      |     1     |\n",
      "|       67      |     2     |\n",
      "+---------------+-----------+\n"
     ]
    }
   ],
   "source": [
    "gambar = gambar.ravel()\n",
    "gambar.sort()\n",
    "elements_count = {}\n",
    "for element in gambar:\n",
    "   if element in elements_count:\n",
    "      elements_count[element] += 1\n",
    "   else:\n",
    "      elements_count[element] = 1\n",
    "myTable = PrettyTable([\"Skala Keabuan\", \"Frekuensi\"])\n",
    "for key, value in elements_count.items():\n",
    "    myTable.add_row([f\"{key}\", f\"{value}\"]) \n",
    "print(myTable)"
   ]
  },
  {
   "cell_type": "markdown",
   "metadata": {},
   "source": [
    "## 2. Distribusi Kumulatif"
   ]
  },
  {
   "cell_type": "code",
   "execution_count": 3,
   "metadata": {},
   "outputs": [
    {
     "name": "stdout",
     "output_type": "stream",
     "text": [
      "+---------------+-----------+----------------------+\n",
      "| Skala Keabuan | Frekuensi | Distribusi Kumulatif |\n",
      "+---------------+-----------+----------------------+\n",
      "|       2       |     1     |          1           |\n",
      "|       3       |     2     |          3           |\n",
      "|       4       |     1     |          4           |\n",
      "|       7       |     1     |          5           |\n",
      "|       8       |     2     |          7           |\n",
      "|       9       |     1     |          8           |\n",
      "|       12      |     2     |          10          |\n",
      "|       13      |     1     |          11          |\n",
      "|       24      |     2     |          13          |\n",
      "|       32      |     4     |          17          |\n",
      "|       45      |     4     |          21          |\n",
      "|       61      |     1     |          22          |\n",
      "|       65      |     1     |          23          |\n",
      "|       67      |     2     |          25          |\n",
      "+---------------+-----------+----------------------+\n"
     ]
    }
   ],
   "source": [
    "kumulatif = 0\n",
    "myTable = PrettyTable([\"Skala Keabuan\", \"Frekuensi\", \"Distribusi Kumulatif\"])\n",
    "for key, value in elements_count.items():\n",
    "    kumulatif = kumulatif + int(f\"{value}\")\n",
    "    myTable.add_row([f\"{key}\", f\"{value}\", kumulatif]) \n",
    "print(myTable)"
   ]
  },
  {
   "cell_type": "markdown",
   "metadata": {},
   "source": [
    "## 3. Nilai Keabuan"
   ]
  },
  {
   "cell_type": "code",
   "execution_count": 4,
   "metadata": {},
   "outputs": [
    {
     "name": "stdout",
     "output_type": "stream",
     "text": [
      "+---------------+-----------+----------------------+---------------+\n",
      "| Skala Keabuan | Frekuensi | Distribusi Kumulatif | Nilai Keabuan |\n",
      "+---------------+-----------+----------------------+---------------+\n",
      "|       2       |     1     |          1           |       1       |\n",
      "|       3       |     2     |          3           |       4       |\n",
      "|       4       |     1     |          4           |       5       |\n",
      "|       7       |     1     |          5           |       6       |\n",
      "|       8       |     2     |          7           |       9       |\n",
      "|       9       |     1     |          8           |       10      |\n",
      "|       12      |     2     |          10          |       12      |\n",
      "|       13      |     1     |          11          |       14      |\n",
      "|       24      |     2     |          13          |       16      |\n",
      "|       32      |     4     |          17          |       21      |\n",
      "|       45      |     4     |          21          |       26      |\n",
      "|       61      |     1     |          22          |       27      |\n",
      "|       65      |     1     |          23          |       29      |\n",
      "|       67      |     2     |          25          |       31      |\n",
      "+---------------+-----------+----------------------+---------------+\n"
     ]
    }
   ],
   "source": [
    "myTable = PrettyTable([\"Skala Keabuan\", \"Frekuensi\", \"Distribusi Kumulatif\",\"Nilai Keabuan\"])\n",
    "kumulatif = 0\n",
    "for key, value in elements_count.items():\n",
    "    kumulatif = kumulatif + int(f\"{value}\")\n",
    "    keabuan = round(kumulatif*(2**5-1)/(5*5))\n",
    "    myTable.add_row([f\"{key}\", f\"{value}\", kumulatif,keabuan]) \n",
    "print(myTable)"
   ]
  },
  {
   "cell_type": "code",
   "execution_count": null,
   "metadata": {},
   "outputs": [],
   "source": []
  }
 ],
 "metadata": {
  "kernelspec": {
   "display_name": "Python 3",
   "language": "python",
   "name": "python3"
  },
  "language_info": {
   "codemirror_mode": {
    "name": "ipython",
    "version": 3
   },
   "file_extension": ".py",
   "mimetype": "text/x-python",
   "name": "python",
   "nbconvert_exporter": "python",
   "pygments_lexer": "ipython3",
   "version": "3.8.5"
  }
 },
 "nbformat": 4,
 "nbformat_minor": 4
}
