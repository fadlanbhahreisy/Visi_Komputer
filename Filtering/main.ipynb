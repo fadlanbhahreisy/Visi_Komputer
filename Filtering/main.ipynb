{
 "cells": [
  {
   "cell_type": "markdown",
   "metadata": {},
   "source": [
    "# Nama : Achmad Fadlan Bhahreisy\n",
    "# NPM : 06.2018.1.06992"
   ]
  },
  {
   "attachments": {
    "image.png": {
     "image/png": "[encoded data removed]"
    }
   },
   "cell_type": "markdown",
   "metadata": {},
   "source": [
    "## 1. Apa ciri – ciri kernel LPF? Berikan contohnya.\n",
    "Low Pass Filter (LPF) adalah suatu bentuk filter yang mengambil frekwensi rendah dan membuang frekwensi tinggi.  LPF digunakan untuk melakukan proses efek blur dan reduksi noise. Ciri-ciri kernel dari LPF adalah semua nilainya positifdan jumlah dari semua nilainya sama dengan satu\n",
    "### Contoh Filter LPF\n",
    "![image.png](attachment:image.png)"
   ]
  },
  {
   "cell_type": "markdown",
   "metadata": {},
   "source": [
    "## 2. Sebutkan 3 macam noise yang dibangkitkan untuk pengolahan citra, dan apa ciri dari masing – masing noise tersebut.\n",
    "a. NOISE GAUSSIAN\n",
    "- Noise ini dibangkitkan menggunakan pembangkit bilangan acak berdistribusi Gaussian\n",
    "- Titik – titik yang terkena noise akan berubah warna (derajat keabuan) secara acak menggunakan distribusi Gaussian\n",
    "\n",
    "b. NOISE SPECKLE\n",
    "- Noise ini dibangkitkan menggunakan pembangkit bilangan acak berdistribusi gaussian (direkomendasikan sampai pada turunannya) atau bilangan acak berdistribusi uniform.\n",
    "- Titik-titik yang terkena noise akan berubah warna (derajat keabuan) hitam atau nilainya menjadi 0.\n",
    "\n",
    "c. NOISE SALT & PEPPER\n",
    "- Noise ini dibangkitkan menggunakan pembangkit bilangan acak berdistribusi gaussian (direkomendasikan sampai pada turunannya) atau bilangan acak berditribusi uniform.\n",
    "- Titik-titik yang terkena noise akan berubah warna (derajat keabuan) putih atau nilainya menjadi 255.\n"
   ]
  },
  {
   "attachments": {
    "image-2.png": {
     "image/png": "[encoded data removed]"
    }
   },
   "cell_type": "markdown",
   "metadata": {},
   "source": [
    "## 3. Diketahui citra F, lakukan filter rata- rata 3 x 3, dapatkan citra hasil.\n",
    "![image-2.png](attachment:image-2.png)"
   ]
  },
  {
   "cell_type": "markdown",
   "metadata": {},
   "source": [
    "### Function untuk menghitung konvolusi dari kernel rata2 3x3"
   ]
  },
  {
   "cell_type": "code",
   "execution_count": 1,
   "metadata": {},
   "outputs": [],
   "source": [
    "import numpy as np\n",
    "def filter3x3(img):\n",
    "    container = np.copy(img)\n",
    "    size = container.shape\n",
    "    max = size[1]-1\n",
    "    x = 1/9\n",
    "    for i in range(size[0]):\n",
    "        for j in range(size[1]):\n",
    "            container[i][0] = 0\n",
    "            container[i][max] = 0\n",
    "            container[0][j] = 0\n",
    "            container[max][j] = 0\n",
    "            \n",
    "    for i in range(1, size[0] - 1):\n",
    "        for j in range(1, size[1] - 1):\n",
    "            hasilnya = (x*img[i - 1][j + 1] + x*img[i][j + 1] + x*img[i + 1][j + 1]) +(x*img[i - 1][j] + x*img[i][j] + x*img[i + 1][j])+ (x*img[i - 1][j - 1] + x*img[i][j - 1] + x*img[i + 1][j - 1])\n",
    "            container[i][j] = hasilnya\n",
    "    return container\n",
    "    pass\n"
   ]
  },
  {
   "cell_type": "markdown",
   "metadata": {},
   "source": [
    "### Cara 1 : Border Diabaikan"
   ]
  },
  {
   "cell_type": "code",
   "execution_count": 2,
   "metadata": {},
   "outputs": [
    {
     "name": "stdout",
     "output_type": "stream",
     "text": [
      "Gambar Ori\n",
      "[[1. 1. 1. 1.]\n",
      " [1. 4. 1. 1.]\n",
      " [1. 1. 1. 1.]\n",
      " [1. 1. 3. 1.]]\n",
      "\n",
      "\n",
      "Konvolusi\n",
      "[[0.        0.        0.        0.       ]\n",
      " [0.        1.3333334 1.3333334 0.       ]\n",
      " [0.        1.5555556 1.5555556 0.       ]\n",
      " [0.        0.        0.        0.       ]]\n"
     ]
    }
   ],
   "source": [
    "gambar = np.float32([\n",
    "        [1,1,1,1],\n",
    "        [1,4,1,1],\n",
    "        [1,1,1,1],\n",
    "        [1,1,3,1]])\n",
    "\n",
    "print(\"Gambar Ori\")\n",
    "print(gambar)\n",
    "print()\n",
    "print()\n",
    "print(\"Konvolusi\")\n",
    "print(filter3x3(gambar))"
   ]
  },
  {
   "cell_type": "markdown",
   "metadata": {},
   "source": [
    "### Cara 2 : Ditambah dengan angka 0 pada luar border"
   ]
  },
  {
   "cell_type": "code",
   "execution_count": 3,
   "metadata": {},
   "outputs": [
    {
     "name": "stdout",
     "output_type": "stream",
     "text": [
      "Gambar Ori\n",
      "[[0. 0. 0. 0. 0. 0.]\n",
      " [0. 1. 1. 1. 1. 0.]\n",
      " [0. 1. 4. 1. 1. 0.]\n",
      " [0. 1. 1. 1. 1. 0.]\n",
      " [0. 1. 1. 3. 1. 0.]\n",
      " [0. 0. 0. 0. 0. 0.]]\n",
      "\n",
      "\n",
      "Konvolusi\n",
      "[[0.         0.         0.         0.         0.         0.        ]\n",
      " [0.         0.7777778  1.         1.         0.44444445 0.        ]\n",
      " [0.         1.         1.3333334  1.3333334  0.6666667  0.        ]\n",
      " [0.         1.         1.5555556  1.5555556  0.8888889  0.        ]\n",
      " [0.         0.44444445 0.8888889  0.8888889  0.6666667  0.        ]\n",
      " [0.         0.         0.         0.         0.         0.        ]]\n"
     ]
    }
   ],
   "source": [
    "gambar = np.float32([\n",
    "        [0,0,0,0,0,0],\n",
    "        [0,1,1,1,1,0],\n",
    "        [0,1,4,1,1,0],\n",
    "        [0,1,1,1,1,0],\n",
    "        [0,1,1,3,1,0],\n",
    "        [0,0,0,0,0,0]])\n",
    "print(\"Gambar Ori\")\n",
    "print(gambar)\n",
    "print()\n",
    "print()\n",
    "print(\"Konvolusi\")\n",
    "print(filter3x3(gambar))"
   ]
  },
  {
   "cell_type": "code",
   "execution_count": null,
   "metadata": {},
   "outputs": [],
   "source": []
  }
 ],
 "metadata": {
  "kernelspec": {
   "display_name": "Python 3",
   "language": "python",
   "name": "python3"
  },
  "language_info": {
   "codemirror_mode": {
    "name": "ipython",
    "version": 3
   },
   "file_extension": ".py",
   "mimetype": "text/x-python",
   "name": "python",
   "nbconvert_exporter": "python",
   "pygments_lexer": "ipython3",
   "version": "3.8.5"
  }
 },
 "nbformat": 4,
 "nbformat_minor": 4
}
